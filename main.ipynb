{
 "cells": [
  {
   "cell_type": "code",
   "execution_count": 9,
   "metadata": {},
   "outputs": [],
   "source": [
    "import pandas as pd\n"
   ]
  },
  {
   "cell_type": "code",
   "execution_count": 6,
   "metadata": {},
   "outputs": [],
   "source": [
    "def get_movie():\n",
    "    inp = input('What is your favorite movie name and the year ?').lower().strip()\n",
    "    while True:\n",
    "        try:\n",
    "           val = int(inp)\n",
    "           print('Invalid Input, please type a movie name and the year only: ')\n",
    "        except:\n",
    "            print('You are not stupid')\n",
    "            break\n",
    "        "
   ]
  },
  {
   "cell_type": "code",
   "execution_count": null,
   "metadata": {},
   "outputs": [],
   "source": [
    "def get_director():\n",
    "    inp = input('What is the director name ?').lower().strip()\n",
    "    while True:\n",
    "        try:\n",
    "           val = int(inp)\n",
    "           print('Invalid Input, please type a director name only: ')\n",
    "        except:\n",
    "            print('You are not stupid')\n",
    "            break"
   ]
  },
  {
   "cell_type": "code",
   "execution_count": 10,
   "metadata": {},
   "outputs": [],
   "source": [
    "df = pd.read_csv('/Users/alexkingdom/Projects/Python/Group Project/movie_list.csv')"
   ]
  },
  {
   "cell_type": "code",
   "execution_count": 13,
   "metadata": {},
   "outputs": [
    {
     "data": {
      "text/html": [
       "<div>\n",
       "<style scoped>\n",
       "    .dataframe tbody tr th:only-of-type {\n",
       "        vertical-align: middle;\n",
       "    }\n",
       "\n",
       "    .dataframe tbody tr th {\n",
       "        vertical-align: top;\n",
       "    }\n",
       "\n",
       "    .dataframe thead th {\n",
       "        text-align: right;\n",
       "    }\n",
       "</style>\n",
       "<table border=\"1\" class=\"dataframe\">\n",
       "  <thead>\n",
       "    <tr style=\"text-align: right;\">\n",
       "      <th></th>\n",
       "      <th>The Godfather 1972</th>\n",
       "      <th>Francis Ford Coppola</th>\n",
       "      <th>Drama, Thriller, Crime</th>\n",
       "    </tr>\n",
       "  </thead>\n",
       "  <tbody>\n",
       "    <tr>\n",
       "      <th>0</th>\n",
       "      <td>Citizen Kane 1941</td>\n",
       "      <td>Orson Welles</td>\n",
       "      <td>Drama, Mystery</td>\n",
       "    </tr>\n",
       "    <tr>\n",
       "      <th>1</th>\n",
       "      <td>Rear Window 1954</td>\n",
       "      <td>Alfred Hitchcock</td>\n",
       "      <td>Mystery, Thriller</td>\n",
       "    </tr>\n",
       "    <tr>\n",
       "      <th>2</th>\n",
       "      <td>Casablanca 1943</td>\n",
       "      <td>Michael Curtiz</td>\n",
       "      <td>Drama, Romance, War</td>\n",
       "    </tr>\n",
       "    <tr>\n",
       "      <th>3</th>\n",
       "      <td>Boyhood 2014</td>\n",
       "      <td>Richard Linklater</td>\n",
       "      <td>Drama</td>\n",
       "    </tr>\n",
       "    <tr>\n",
       "      <th>4</th>\n",
       "      <td>Three Colors: Red 1994</td>\n",
       "      <td>Krzysztof Kieslowski</td>\n",
       "      <td>Drama, Mystery, Romance</td>\n",
       "    </tr>\n",
       "  </tbody>\n",
       "</table>\n",
       "</div>"
      ],
      "text/plain": [
       "       The Godfather 1972  Francis Ford Coppola   Drama, Thriller, Crime\n",
       "0       Citizen Kane 1941          Orson Welles           Drama, Mystery\n",
       "1        Rear Window 1954      Alfred Hitchcock        Mystery, Thriller\n",
       "2         Casablanca 1943        Michael Curtiz      Drama, Romance, War\n",
       "3            Boyhood 2014     Richard Linklater                    Drama\n",
       "4  Three Colors: Red 1994  Krzysztof Kieslowski  Drama, Mystery, Romance"
      ]
     },
     "execution_count": 13,
     "metadata": {},
     "output_type": "execute_result"
    }
   ],
   "source": [
    "df.head()\n"
   ]
  },
  {
   "cell_type": "code",
   "execution_count": null,
   "metadata": {},
   "outputs": [],
   "source": [
    "df.groupby('Richard Linklater')"
   ]
  },
  {
   "cell_type": "code",
   "execution_count": null,
   "metadata": {},
   "outputs": [],
   "source": []
  }
 ],
 "metadata": {
  "kernelspec": {
   "display_name": "Python 3.9.12 ('base')",
   "language": "python",
   "name": "python3"
  },
  "language_info": {
   "codemirror_mode": {
    "name": "ipython",
    "version": 3
   },
   "file_extension": ".py",
   "mimetype": "text/x-python",
   "name": "python",
   "nbconvert_exporter": "python",
   "pygments_lexer": "ipython3",
   "version": "3.9.12"
  },
  "orig_nbformat": 4,
  "vscode": {
   "interpreter": {
    "hash": "3c3dbef192cb335f83a5dd9e9161a69cadeaf5d6631cb9cd12bddb603fc54a22"
   }
  }
 },
 "nbformat": 4,
 "nbformat_minor": 2
}
