{
 "cells": [
  {
   "cell_type": "code",
   "execution_count": 2,
   "id": "b3871974",
   "metadata": {},
   "outputs": [
    {
     "name": "stdout",
     "output_type": "stream",
     "text": [
      "<http.client.HTTPResponse object at 0x7fe95e7ee160>\n"
     ]
    }
   ],
   "source": [
    "\n",
    "import urllib.request\n",
    "\n",
    "headers = {'User-Agent': 'Mozilla/5.0 (Macintosh; Intel Mac OS X 10_13_6) AppleWebKit/537.36 (KHTML, like Gecko) Chrome/70.0.3538.77 Safari/537.36'}\n",
    "\n",
    "req = urllib.request.Request('https://www.metacritic.com/browse/movies/score/metascore/all/filtered?sort=desc', headers = headers)\n",
    "fhand = urllib.request.urlopen(req)\n",
    "print(fhand)"
   ]
  },
  {
   "cell_type": "code",
   "execution_count": 3,
   "id": "ce709b3f",
   "metadata": {},
   "outputs": [],
   "source": [
    "import urllib.request, urllib.parse, urllib.error\n",
    "from bs4 import BeautifulSoup\n",
    "soup = BeautifulSoup(fhand,'html.parser')"
   ]
  },
  {
   "cell_type": "code",
   "execution_count": null,
   "id": "47207148",
   "metadata": {},
   "outputs": [],
   "source": []
  },
  {
   "cell_type": "code",
   "execution_count": null,
   "id": "db0410de",
   "metadata": {},
   "outputs": [],
   "source": [
    "print(soup)\n"
   ]
  },
  {
   "cell_type": "code",
   "execution_count": null,
   "id": "1dc56ae6",
   "metadata": {},
   "outputs": [],
   "source": [
    "hyperlinks = soup.find_all('a',attrs = {'class':'title'})\n",
    "for i in hyperlinks:\n",
    "    print(i.get_text())"
   ]
  },
  {
   "cell_type": "code",
   "execution_count": 5,
   "id": "eb17c2df",
   "metadata": {},
   "outputs": [],
   "source": [
    "url = []\n",
    "for i in hyperlinks:\n",
    "    url.append('https://www.metacritic.com/'+i.get('href'))"
   ]
  },
  {
   "cell_type": "code",
   "execution_count": null,
   "id": "47c29bce",
   "metadata": {},
   "outputs": [],
   "source": [
    "for i in url:\n",
    "    print(url)"
   ]
  },
  {
   "cell_type": "code",
   "execution_count": 7,
   "id": "1ec77d22",
   "metadata": {},
   "outputs": [],
   "source": [
    "title = [] ## Get all the title to an empty list\n",
    "all_url = [] ## Get all the url \n",
    "for i in range(5):\n",
    "    req = urllib.request.Request('https://www.metacritic.com/browse/movies/score/metascore/all/filtered?sort=desc&page='+str(i), headers = headers)\n",
    "    fhand = urllib.request.urlopen(req)\n",
    "    soup = BeautifulSoup(fhand,'html.parser')\n",
    "    hyperlink = soup.find_all('a',attrs = {'class':'title'})\n",
    "    for j in hyperlink:\n",
    "        title.append(j.get_text())\n",
    "    all_url.extend(hyperlink)\n",
    "\n"
   ]
  },
  {
   "cell_type": "code",
   "execution_count": null,
   "id": "db0966d4",
   "metadata": {},
   "outputs": [],
   "source": [
    "print(title)"
   ]
  },
  {
   "cell_type": "code",
   "execution_count": 16,
   "id": "e36c4534",
   "metadata": {},
   "outputs": [],
   "source": [
    "req = urllib.request.Request('https://www.metacritic.com/movie/the-godfather', headers = headers)\n",
    "fhand = urllib.request.urlopen(req)\n",
    "soup = BeautifulSoup(fhand, 'html.parser')\n",
    "title = soup.find_all('div',attrs = {'class':'product_page_title oswald'})"
   ]
  },
  {
   "cell_type": "code",
   "execution_count": 20,
   "id": "840c48f1",
   "metadata": {},
   "outputs": [],
   "source": [
    "title_name = title[0].get_text().strip().replace('\\n',' ')"
   ]
  },
  {
   "cell_type": "code",
   "execution_count": 21,
   "id": "73aacfb0",
   "metadata": {},
   "outputs": [
    {
     "name": "stdout",
     "output_type": "stream",
     "text": [
      "The Godfather 1972\n"
     ]
    }
   ],
   "source": [
    "print(title_name)"
   ]
  },
  {
   "cell_type": "code",
   "execution_count": 22,
   "id": "2bf9794c",
   "metadata": {},
   "outputs": [],
   "source": [
    "director = [] # Create an empty list \n",
    "# Create a loop that loop thru each url , and html and get all the directors name and save it all into director list\n",
    "movie = {}\n",
    "\n",
    "genres = []\n",
    "\n",
    "#####\n",
    "for i in url:\n",
    "    req = urllib.request.Request(i, headers = headers )\n",
    "    fhand = urllib.request.urlopen(req)\n",
    "    soup = BeautifulSoup(fhand, 'html.parser')\n",
    "    ### Getting Title Name\n",
    "    title = soup.find_all('div',attrs = {'class':'product_page_title oswald'})\n",
    "    title_name = title[0].get_text().strip().replace('\\n',' ')\n",
    "    #### Getting Directors name and append it into Director empty list \n",
    "    director_div = soup.find('div',attrs ={'class':'director'} )\n",
    "    director_link = director_div.find_all('a')\n",
    "    dir_temp_list = []\n",
    "    for j in director_link:\n",
    "        dir_temp_list.append(j.get_text())\n",
    "    director_tuple = tuple(dir_temp_list)\n",
    "    ##### Getting Genres and append it into Genres list \n",
    "    genre_div = soup.find('div' , attrs = {'class':'genres'})\n",
    "    genre_list = genre_div.find_all('span')\n",
    "    tem_list = []\n",
    "    for k in genre_list:\n",
    "        tem_list.append(k.get_text())\n",
    "    genres.append(tem_list[2:])\n",
    " \n",
    " ##Create a dictionary\n",
    "    sub_dict = {}\n",
    "    sub_dict[director_tuple] = tem_list[2:]\n",
    "##Create a movie dictionary \n",
    "    movie[title_name] = sub_dict\n"
   ]
  },
  {
   "cell_type": "code",
   "execution_count": null,
   "id": "39159ad1",
   "metadata": {},
   "outputs": [],
   "source": [
    "print(movie)\n",
    "len(movie)"
   ]
  },
  {
   "cell_type": "code",
   "execution_count": null,
   "id": "85e96b90",
   "metadata": {},
   "outputs": [],
   "source": [
    "director_div = soup.find('div',attrs = {'class':'director'})\n",
    "print(director_div)"
   ]
  },
  {
   "cell_type": "code",
   "execution_count": 11,
   "id": "6dab094e",
   "metadata": {},
   "outputs": [],
   "source": [
    "director_link = director_div.find_all('a')"
   ]
  },
  {
   "cell_type": "code",
   "execution_count": null,
   "id": "9654570c",
   "metadata": {},
   "outputs": [],
   "source": [
    "print(director_link)"
   ]
  },
  {
   "cell_type": "code",
   "execution_count": 13,
   "id": "0fc4f2c0",
   "metadata": {},
   "outputs": [
    {
     "name": "stdout",
     "output_type": "stream",
     "text": [
      "Alfred Hitchcock\n"
     ]
    }
   ],
   "source": [
    "for i in director_link:\n",
    "    print(i.get_text())"
   ]
  },
  {
   "cell_type": "code",
   "execution_count": null,
   "id": "b419ddf8",
   "metadata": {},
   "outputs": [],
   "source": [
    "genres_div = soup.find('div', attrs = {'class':'genres'})\n",
    "print(genres_div)"
   ]
  },
  {
   "cell_type": "code",
   "execution_count": null,
   "id": "b8ddc555",
   "metadata": {},
   "outputs": [],
   "source": [
    "genres_list = genres_div.find_all('span')\n",
    "print(genres_list)"
   ]
  },
  {
   "cell_type": "code",
   "execution_count": null,
   "id": "ee58aebc",
   "metadata": {},
   "outputs": [],
   "source": [
    "genre = []\n",
    "x = []\n",
    "while True:\n",
    "    for i in genres_list:\n",
    "        genre.append(i.get_text().strip())\n",
    "        print(genre)\n",
    "        print('*******')\n",
    "    print(genre[2:])\n",
    "    x.append(genre[2:])\n",
    "    break\n",
    "\n",
    "print(x)"
   ]
  },
  {
   "cell_type": "code",
   "execution_count": 66,
   "id": "6b31e726",
   "metadata": {},
   "outputs": [
    {
     "name": "stdout",
     "output_type": "stream",
     "text": [
      "[]\n"
     ]
    }
   ],
   "source": [
    "print(genres_list)"
   ]
  },
  {
   "cell_type": "code",
   "execution_count": null,
   "id": "91f13bda",
   "metadata": {},
   "outputs": [],
   "source": [
    "for i in genres:\n",
    "    print(i)"
   ]
  },
  {
   "cell_type": "code",
   "execution_count": null,
   "id": "e5a2e423",
   "metadata": {},
   "outputs": [],
   "source": [
    "hyperlinks = soup.find_all('a',attrs = {'class':'title'})"
   ]
  },
  {
   "cell_type": "code",
   "execution_count": null,
   "id": "c179fd8d",
   "metadata": {},
   "outputs": [],
   "source": []
  },
  {
   "cell_type": "code",
   "execution_count": null,
   "id": "6ea7515a",
   "metadata": {},
   "outputs": [],
   "source": []
  },
  {
   "cell_type": "code",
   "execution_count": null,
   "id": "c586e4cf",
   "metadata": {},
   "outputs": [],
   "source": []
  }
 ],
 "metadata": {
  "kernelspec": {
   "display_name": "Python 3.9.12 ('base')",
   "language": "python",
   "name": "python3"
  },
  "language_info": {
   "codemirror_mode": {
    "name": "ipython",
    "version": 3
   },
   "file_extension": ".py",
   "mimetype": "text/x-python",
   "name": "python",
   "nbconvert_exporter": "python",
   "pygments_lexer": "ipython3",
   "version": "3.9.12"
  },
  "vscode": {
   "interpreter": {
    "hash": "3c3dbef192cb335f83a5dd9e9161a69cadeaf5d6631cb9cd12bddb603fc54a22"
   }
  }
 },
 "nbformat": 4,
 "nbformat_minor": 5
}
