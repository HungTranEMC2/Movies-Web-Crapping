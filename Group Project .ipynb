{
 "cells": [
  {
   "cell_type": "markdown",
   "id": "548a57bb",
   "metadata": {},
   "source": [
    "Web Crapping 500 movies "
   ]
  },
  {
   "cell_type": "code",
   "execution_count": 1,
   "id": "b3871974",
   "metadata": {},
   "outputs": [],
   "source": [
    "\n",
    "import urllib.request\n",
    "import csv\n",
    "import urllib.request, urllib.parse, urllib.error\n",
    "from bs4 import BeautifulSoup\n"
   ]
  },
  {
   "cell_type": "code",
   "execution_count": 2,
   "id": "ce709b3f",
   "metadata": {},
   "outputs": [
    {
     "name": "stdout",
     "output_type": "stream",
     "text": [
      "<http.client.HTTPResponse object at 0x7fdf4a9a7df0>\n"
     ]
    }
   ],
   "source": [
    "headers = {'User-Agent': 'Mozilla/5.0 (Macintosh; Intel Mac OS X 10_13_6) AppleWebKit/537.36 (KHTML, like Gecko) Chrome/70.0.3538.77 Safari/537.36'}\n",
    "\n",
    "req = urllib.request.Request('https://www.metacritic.com/browse/movies/score/metascore/all/filtered?sort=desc', headers = headers)\n",
    "fhand = urllib.request.urlopen(req)\n",
    "print(fhand)\n",
    "soup = BeautifulSoup(fhand,'html.parser')"
   ]
  },
  {
   "cell_type": "code",
   "execution_count": 3,
   "id": "1dc56ae6",
   "metadata": {},
   "outputs": [
    {
     "name": "stdout",
     "output_type": "stream",
     "text": [
      "The Godfather\n",
      "Citizen Kane\n",
      "Rear Window\n",
      "Casablanca\n",
      "Boyhood\n",
      "Three Colors: Red\n",
      "Vertigo\n",
      "Notorious\n",
      "Singin' in the Rain\n",
      "City Lights\n",
      "Moonlight\n",
      "Intolerance\n",
      "Pinocchio\n",
      "Touch of Evil\n",
      "Au hasard Balthazar\n",
      "The Lady Vanishes\n",
      "The Treasure of the Sierra Madre\n",
      "Pan's Labyrinth\n",
      "Some Like It Hot\n",
      "North by Northwest\n",
      "Hoop Dreams\n",
      "Rashomon\n",
      "All About Eve\n",
      "Jules and Jim\n",
      "The Wild Bunch\n",
      "My Left Foot\n",
      "The Third Man\n",
      "Dr. Strangelove or: How I Learned to Stop Worrying and Love the Bomb\n",
      "Quo Vadis, Aida?\n",
      "Psycho\n",
      "Gone with the Wind\n",
      "4 Months, 3 Weeks and 2 Days\n",
      "Battleship Potemkin\n",
      "A Streetcar Named Desire\n",
      "The Maltese Falcon\n",
      "American Graffiti\n",
      "Dumbo\n",
      "Roma\n",
      "Parasite\n",
      "Ran\n",
      "Summer of Soul (...Or, When the Revolution Could Not Be Televised)\n",
      "The Shop Around the Corner\n",
      "12 Angry Men\n",
      "Rosemary's Baby\n",
      "12 Years a Slave\n",
      "Manchester by the Sea\n",
      "Killer of Sheep\n",
      "Nashville\n",
      "Ratatouille\n",
      "The Grapes of Wrath\n",
      "Children of Paradise (1945)\n",
      "Mean Streets\n",
      "Sansho the Bailiff\n",
      "The Lady Eve\n",
      "Gravity\n",
      "Fantasia\n",
      "Spirited Away\n",
      "Beauty and the Beast\n",
      "Small Axe: Lovers Rock\n",
      "Toy Story\n",
      "The Bride of Frankenstein\n",
      "Don't Look Now\n",
      "Aftersun\n",
      "The Social Network\n",
      "My Fair Lady\n",
      "Portrait of a Lady on Fire\n",
      "I Am Not Your Negro\n",
      "Woodstock\n",
      "Rocks\n",
      "Snow White and the Seven Dwarfs\n",
      "Amour\n",
      "The Hurt Locker\n",
      "Anatomy of a Murder\n",
      "Zero Dark Thirty\n",
      "Collective\n",
      "A Separation\n",
      "Double Indemnity\n",
      "WALL-E\n",
      "Carol\n",
      "Before Midnight\n",
      "Dunkirk\n",
      "The Man Who Shot Liberty Valance\n",
      "The Searchers\n",
      "45 Years\n",
      "Taxi Driver\n",
      "The Servant\n",
      "Pulp Fiction\n",
      "The Manchurian Candidate\n",
      "Mr. Turner\n",
      "The Irishman\n",
      "Amazing Grace\n",
      "Grave of the Fireflies (1988)\n",
      "The Wild Child\n",
      "Shadow of a Doubt\n",
      "Inside Out\n",
      "Sideways\n",
      "Schindler's List\n",
      "Meet Me in St. Louis\n",
      "The Apartment\n",
      "Apocalypse Now\n"
     ]
    }
   ],
   "source": [
    "hyperlinks = soup.find_all('a',attrs = {'class':'title'})\n",
    "for i in hyperlinks:\n",
    "    print(i.get_text())"
   ]
  },
  {
   "cell_type": "code",
   "execution_count": 4,
   "id": "eb17c2df",
   "metadata": {},
   "outputs": [],
   "source": [
    "url = []\n",
    "for i in hyperlinks:\n",
    "    url.append('https://www.metacritic.com/'+i.get('href'))"
   ]
  },
  {
   "cell_type": "code",
   "execution_count": null,
   "id": "47c29bce",
   "metadata": {},
   "outputs": [],
   "source": [
    "for i in url:\n",
    "    print(url)"
   ]
  },
  {
   "cell_type": "code",
   "execution_count": 6,
   "id": "1ec77d22",
   "metadata": {},
   "outputs": [],
   "source": [
    "title = [] ## Get all the title to an empty list\n",
    "all_url = [] ## Get all the url \n",
    "all_hyperlink = []\n",
    "for i in range(5):\n",
    "    req = urllib.request.Request('https://www.metacritic.com/browse/movies/score/metascore/all/filtered?sort=desc&page='+str(i), headers = headers)\n",
    "    fhand = urllib.request.urlopen(req)\n",
    "    soup = BeautifulSoup(fhand,'html.parser')\n",
    "    hyperlink = soup.find_all('a',attrs = {'class':'title'})\n",
    "    all_hyperlink.extend(hyperlink)\n",
    "\n"
   ]
  },
  {
   "cell_type": "code",
   "execution_count": 7,
   "id": "db0966d4",
   "metadata": {},
   "outputs": [],
   "source": [
    "for i in all_hyperlink:\n",
    "    all_url.append('https://www.metacritic.com/'+i.get('href'))\n"
   ]
  },
  {
   "cell_type": "code",
   "execution_count": 8,
   "id": "8dcf319b",
   "metadata": {},
   "outputs": [
    {
     "name": "stdout",
     "output_type": "stream",
     "text": [
      "['https://www.metacritic.com//movie/rear-window', 'https://www.metacritic.com//movie/casablanca', 'https://www.metacritic.com//movie/boyhood']\n"
     ]
    }
   ],
   "source": [
    "print(all_url[2:5])"
   ]
  },
  {
   "cell_type": "code",
   "execution_count": 9,
   "id": "e36c4534",
   "metadata": {},
   "outputs": [],
   "source": [
    "req = urllib.request.Request('https://www.metacritic.com/movie/the-godfather', headers = headers)\n",
    "fhand = urllib.request.urlopen(req)\n",
    "soup = BeautifulSoup(fhand, 'html.parser')\n",
    "title = soup.find_all('div',attrs = {'class':'product_page_title oswald'})"
   ]
  },
  {
   "cell_type": "code",
   "execution_count": 10,
   "id": "840c48f1",
   "metadata": {},
   "outputs": [],
   "source": [
    "title_name = title[0].get_text().strip().replace('\\n',' ')"
   ]
  },
  {
   "cell_type": "code",
   "execution_count": 20,
   "id": "73aacfb0",
   "metadata": {},
   "outputs": [
    {
     "name": "stdout",
     "output_type": "stream",
     "text": [
      "The Kid with a Bike 2012\n"
     ]
    }
   ],
   "source": [
    "print(title_name)"
   ]
  },
  {
   "cell_type": "code",
   "execution_count": 16,
   "id": "2bf9794c",
   "metadata": {},
   "outputs": [],
   "source": [
    "director = [] # Create an empty list \n",
    "# Create a loop that loop thru each url , and html and get all the directors name and save it all into director list\n",
    "movie = {}\n",
    "\n",
    "genres = []\n",
    "\n",
    "#####\n",
    "for i in all_url:\n",
    "    req = urllib.request.Request(i, headers = headers )\n",
    "    fhand = urllib.request.urlopen(req)\n",
    "    soup = BeautifulSoup(fhand, 'html.parser')\n",
    "    ### Getting Title Name\n",
    "    title = soup.find_all('div',attrs = {'class':'product_page_title oswald'})\n",
    "    title_name = title[0].get_text().strip().replace('\\n',' ').lower()\n",
    "    #### Getting Directors name and append it into Director empty list \n",
    "    director_div = soup.find('div',attrs ={'class':'director'} )\n",
    "    director_link = director_div.find_all('a')\n",
    "    dir_temp_list = []\n",
    "    for j in director_link:\n",
    "        dir_temp_list.append(j.get_text().lower())\n",
    "    director_tuple = tuple(dir_temp_list)\n",
    "    ##### Getting Genres and append it into Genres list \n",
    "    genre_div = soup.find('div' , attrs = {'class':'genres'})\n",
    "    genre_list = genre_div.find_all('span')\n",
    "    tem_list = []\n",
    "    for k in genre_list:\n",
    "        tem_list.append(k.get_text().lower())\n",
    "    genres.append(tem_list[2:])\n",
    " \n",
    " ##Create a dictionary\n",
    "    sub_dict = {}\n",
    "    sub_dict[director_tuple] = tem_list[2:]\n",
    "##Create a movie dictionary \n",
    "    movie[title_name] = sub_dict\n"
   ]
  },
  {
   "cell_type": "code",
   "execution_count": 17,
   "id": "85e96b90",
   "metadata": {},
   "outputs": [],
   "source": [
    "\n",
    "fhandle = open('movie_list.csv',mode ='w',newline = '') \n",
    "movie_writer = csv.writer(fhandle) \n",
    "for key1,value1 in movie.items():\n",
    "    for key2,value2 in value1.items():\n",
    "        movie_writer.writerow([key1,', '.join(list(key2)),', '.join(value2)])\n",
    "fhandle.close()"
   ]
  },
  {
   "cell_type": "code",
   "execution_count": 18,
   "id": "cf3f3c3c",
   "metadata": {},
   "outputs": [
    {
     "name": "stdout",
     "output_type": "stream",
     "text": [
      "{'the godfather 1972': {('francis ford coppola',): ['drama', 'thriller', 'crime']}, 'citizen kane 1941': {('orson welles',): ['drama', 'mystery']}, 'rear window 1954': {('alfred hitchcock',): ['mystery', 'thriller']}, 'casablanca 1943': {('michael curtiz',): ['drama', 'romance', 'war']}, 'boyhood 2014': {('richard linklater',): ['drama']}, 'three colors: red 1994': {('krzysztof kieslowski',): ['drama', 'mystery', 'romance']}, 'vertigo 1958': {('alfred hitchcock',): ['mystery', 'thriller', 'romance']}, 'notorious 1946': {('alfred hitchcock',): ['drama', 'thriller', 'romance', 'film-noir']}, \"singin' in the rain 1952\": {('gene kelly', 'stanley donen'): ['comedy', 'romance', 'musical']}, 'city lights 1931': {('charles chaplin',): ['drama', 'comedy', 'romance']}, 'moonlight 2016': {('barry jenkins',): ['drama']}, 'intolerance 1916': {('d.w. griffith',): ['drama', 'history']}, 'pinocchio 1940': {('ben sharpsteen', 'bill roberts', 'hamilton luske', 'jack kinney', 'norman ferguson', 't. hee', 'wilfred jackson'): ['fantasy', 'comedy', 'animation', 'family', 'musical']}, 'touch of evil 1958': {('orson welles',): ['drama', 'thriller', 'crime', 'film-noir']}, 'au hasard balthazar 1966': {('robert bresson',): ['drama', 'crime']}, 'the lady vanishes 1938': {('alfred hitchcock',): ['mystery', 'thriller']}, 'the treasure of the sierra madre 1948': {('john huston',): ['adventure', 'drama', 'western']}, \"pan's labyrinth 2006\": {('guillermo del toro',): ['drama', 'mystery', 'thriller', 'fantasy', 'war']}, 'some like it hot 1959': {('billy wilder',): ['comedy', 'romance']}, 'north by northwest 1959': {('alfred hitchcock',): ['action', 'adventure', 'mystery', 'thriller']}, 'hoop dreams 1994': {('steve james',): ['drama', 'sport', 'documentary']}, 'rashomon 1951': {('akira kurosawa',): ['drama', 'mystery', 'crime']}, 'all about eve 1950': {('joseph l. mankiewicz',): ['drama']}, 'jules and jim 1962': {('françois truffaut',): ['drama', 'romance']}, 'the wild bunch 1969': {('sam peckinpah',): ['action', 'adventure', 'western']}, 'my left foot 1989': {('jim sheridan',): ['biography', 'drama']}, 'the third man 1949': {('carol reed',): ['mystery', 'thriller', 'film-noir']}, 'dr. strangelove or: how i learned to stop worrying and love the bomb 1964': {('stanley kubrick',): ['thriller', 'comedy']}, 'quo vadis, aida? 2021': {('jasmila zbanic',): ['drama', 'history', 'war']}, 'psycho 1960': {('alfred hitchcock',): ['mystery', 'thriller', 'horror']}, 'gone with the wind 1940': {('george cukor', 'sam wood', 'victor fleming'): ['drama', 'history', 'romance', 'war']}, '4 months, 3 weeks and 2 days 2008': {('cristian mungiu',): ['drama']}, 'battleship potemkin 1926': {('sergei m. eisenstein',): ['drama', 'history', 'thriller', 'war']}, 'a streetcar named desire 1951': {('elia kazan',): ['drama']}, 'the maltese falcon 1941': {('john huston',): ['mystery', 'film-noir']}, 'american graffiti 1973': {('george lucas',): ['drama', 'comedy']}, 'dumbo 1941': {('ben sharpsteen', 'bill roberts', 'jack kinney', 'john elliotte', 'norman ferguson', 'samuel armstrong', 'wilfred jackson'): ['drama', 'animation', 'family', 'musical']}, 'roma 2018': {('alfonso cuarón',): ['drama']}, 'parasite 2019': {('joon-ho bong',): ['drama', 'thriller', 'comedy']}, 'ran 1985': {('akira kurosawa',): ['action', 'drama', 'war']}, 'summer of soul (...or, when the revolution could not be televised) 2021': {('ahmir-khalib thompson',): ['documentary']}, 'the shop around the corner 1940': {('ernst lubitsch',): ['drama', 'comedy', 'romance']}, '12 angry men 1957': {('sidney lumet',): ['drama', 'crime']}, \"rosemary's baby 1968\": {('roman polanski',): ['drama', 'horror']}, '12 years a slave 2013': {('steve mcqueen',): ['biography', 'drama', 'history']}, 'manchester by the sea 2016': {('kenneth lonergan',): ['drama']}, 'killer of sheep 2007': {('charles burnett',): ['drama']}, 'nashville 1975': {('robert altman',): ['drama', 'comedy', 'music']}, 'ratatouille 2007': {('brad bird',): ['fantasy', 'comedy', 'animation', 'family']}, 'the grapes of wrath 1940': {('john ford',): ['drama', 'history']}, 'children of paradise (1945) 2012': {('marcel carné',): ['drama', 'romance']}, 'mean streets 1973': {('martin scorsese',): ['drama', 'thriller', 'crime']}, 'sansho the bailiff 1955': {('kenji mizoguchi',): ['drama']}, 'the lady eve 1941': {('preston sturges',): ['comedy', 'romance']}, 'gravity 2013': {('alfonso cuarón',): ['sci-fi', 'drama', 'mystery', 'thriller']}, 'fantasia 1940': {('ben sharpsteen', 'bill roberts', 'david hand', 'ford beebe jr.', 'hamilton luske', 'james algar', 'jim handley', 'norman ferguson', 'paul satterfield', 'samuel armstrong', 't. hee', 'wilfred jackson'): ['fantasy', 'music', 'animation', 'family']}, 'spirited away 2002': {('hayao miyazaki',): ['adventure', 'fantasy', 'animation', 'family']}, 'beauty and the beast 1991': {('gary trousdale', 'kirk wise'): ['fantasy', 'romance', 'animation', 'family', 'musical']}, 'small axe: lovers rock 2020': {('steve mcqueen',): ['drama']}, 'toy story 1995': {('john lasseter',): ['adventure', 'fantasy', 'comedy', 'animation', 'family']}, 'the bride of frankenstein 1935': {('james whale',): ['sci-fi', 'drama', 'horror']}, \"don't look now 1973\": {('nicolas roeg',): ['drama', 'thriller', 'horror']}, 'aftersun 2022': {('charlotte wells',): ['drama']}, 'the social network 2010': {('david fincher',): ['biography', 'drama', 'history', 'comedy']}, 'my fair lady 1964': {('george cukor',): ['drama', 'romance', 'family', 'musical']}, 'portrait of a lady on fire 2019': {('céline sciamma',): ['drama', 'history', 'romance']}, 'i am not your negro 2016': {('raoul peck',): ['documentary']}, 'woodstock 1970': {('michael wadleigh',): ['history', 'music', 'documentary']}, 'rocks 2021': {('sarah gavron',): ['drama']}, 'snow white and the seven dwarfs 1938': {('ben sharpsteen', 'david hand', 'larry morey', 'perce pearce', 'wilfred jackson', 'william cottrell'): ['fantasy', 'romance', 'animation', 'family', 'musical']}, 'amour 2012': {('michael haneke',): ['drama', 'romance']}, 'the hurt locker 2009': {('kathryn bigelow',): ['action', 'drama', 'thriller', 'war']}, 'anatomy of a murder 1959': {('otto preminger',): ['drama', 'mystery', 'thriller', 'crime']}, 'zero dark thirty 2012': {('kathryn bigelow',): ['action', 'drama', 'history', 'thriller']}, 'collective 2020': {('alexander nanau',): ['documentary']}, 'a separation 2011': {('asghar farhadi',): ['drama']}, 'double indemnity 1944': {('billy wilder',): ['drama', 'mystery', 'thriller', 'crime', 'film-noir']}, 'wall-e 2008': {('andrew stanton',): ['adventure', 'sci-fi', 'romance', 'animation', 'family']}, 'carol 2015': {('todd haynes',): ['drama', 'romance']}, 'before midnight 2013': {('richard linklater',): ['drama', 'romance']}, 'dunkirk 2017': {('christopher nolan',): ['action', 'drama', 'history', 'thriller', 'war']}, 'the man who shot liberty valance 1962': {('john ford',): ['drama', 'western']}, 'the searchers 1956': {('john ford',): ['adventure', 'drama', 'western']}, '45 years 2015': {('andrew haigh',): ['drama', 'romance']}, 'taxi driver 1976': {('martin scorsese',): ['drama', 'thriller', 'crime']}, 'the servant 1964': {('joseph losey',): ['drama']}, 'pulp fiction 1994': {('quentin tarantino',): ['drama', 'thriller', 'crime']}, 'the manchurian candidate 1962': {('john frankenheimer',): ['drama', 'mystery', 'thriller']}, 'mr. turner 2014': {('mike leigh',): ['biography', 'drama', 'history']}, 'the irishman 2019': {('martin scorsese',): ['biography', 'drama', 'history', 'thriller', 'crime']}, 'amazing grace 2018': {('alan elliott', 'sydney pollack'): ['documentary']}, 'grave of the fireflies (1988) 1989': {('isao takahata',): ['drama', 'war', 'animation']}, 'the wild child 1970': {('françois truffaut',): ['drama']}, 'shadow of a doubt 1943': {('alfred hitchcock',): ['thriller']}, 'inside out 2015': {('pete docter', 'ronaldo del carmen'): ['adventure', 'drama', 'fantasy', 'comedy', 'animation', 'family']}, 'sideways 2004': {('alexander payne',): ['drama', 'comedy', 'romance']}, \"schindler's list 1993\": {('steven spielberg',): ['biography', 'drama', 'history', 'war']}, 'meet me in st. louis 1945': {('vincente minnelli',): ['drama', 'comedy', 'romance', 'music', 'family']}, 'the apartment 1960': {('billy wilder',): ['drama', 'comedy', 'romance']}, 'apocalypse now 1979': {('francis ford coppola',): ['action', 'drama', 'war']}, 'the gunfighter 1950': {('henry king',): ['western']}, 'we were here 2011': {('bill weber', 'david weissman'): ['documentary']}, 'faces places 2017': {('agnès varda', 'jr'): ['documentary']}, 'chimes at midnight 1967': {('orson welles',): ['drama', 'history', 'comedy', 'war']}, 'the lord of the rings: the return of the king 2003': {('peter jackson',): ['action', 'adventure', 'fantasy']}, 'call me by your name 2017': {('luca guadagnino',): ['drama', 'romance']}, 'carlos 2010': {('olivier assayas',): ['biography', 'drama', 'history', 'thriller', 'crime']}, 'marriage story 2019': {('noah baumbach',): ['drama', 'comedy', 'romance']}, 'the french connection 1971': {('william friedkin',): ['action', 'drama', 'thriller', 'crime']}, 'la la land 2016': {('damien chazelle',): ['drama', 'comedy', 'romance', 'musical']}, 'crouching tiger, hidden dragon 2000': {('ang lee',): ['action', 'adventure', 'drama', 'fantasy', 'romance']}, 'jeanne dielman, 23, quai du commerce, 1080 bruxelles 1978': {('chantal akerman',): ['drama']}, 'petite maman 2021': {('céline sciamma',): ['drama']}, 'the magnificent ambersons 1942': {('fred fleck', 'orson welles', 'robert wise'): ['drama', 'romance']}, 'reversal of fortune 1990': {('barbet schroeder',): ['drama', 'mystery']}, 'david byrne’s american utopia 2020': {('spike lee',): ['music', 'musical', 'documentary']}, 'lady bird 2017': {('greta gerwig',): ['drama', 'comedy']}, 'saint omer': {('alice diop',): ['drama']}, 'shoplifters 2018': {('hirokazu koreeda',): ['drama', 'crime']}, 'shoah: four sisters 2018': {('claude lanzmann',): ['history', 'documentary']}, 'the 39 steps 1935': {('alfred hitchcock',): ['mystery', 'thriller', 'film-noir']}, 'duck soup 1933': {('leo mccarey',): ['comedy', 'war', 'musical']}, 'days of heaven 1978': {('terrence malick',): ['drama', 'romance']}, 'toni erdmann 2016': {('maren ade',): ['drama', 'comedy']}, 'yi yi 2000': {('edward yang',): ['drama', 'romance', 'music']}, 'mccabe & mrs. miller 1971': {('robert altman',): ['drama', 'western']}, 'inside llewyn davis 2013': {('ethan coen', 'joel coen'): ['drama', 'music']}, 'the best years of our lives 1946': {('william wyler',): ['drama', 'romance', 'war']}, 'stagecoach 1939': {('john ford',): ['adventure', 'drama', 'western']}, 'sherpa 2015': {('jennifer peedom',): ['documentary']}, 'there will be blood 2007': {('paul thomas anderson',): ['drama', 'thriller']}, 'badlands 1973': {('terrence malick',): ['drama', 'crime']}, 'the last picture show 1971': {('peter bogdanovich',): ['drama']}, 'do the right thing 1989': {('spike lee',): ['drama', 'comedy']}, 'sita sings the blues 2009': {('nina paley',): ['fantasy', 'comedy', 'romance', 'animation', 'musical']}, 'the decline of western civilization 1981': {('penelope spheeris',): ['history', 'music', 'documentary']}, 'yojimbo 1961': {('akira kurosawa',): ['action', 'drama', 'thriller']}, 'rio bravo 1959': {('howard hawks',): ['action', 'drama', 'western']}, \"brother's keeper 1992\": {('bruce sinofsky', 'joe berlinger'): ['mystery', 'crime', 'documentary']}, 'sankofa 1993': {('haile gerima',): ['drama']}, 'crumb 1995': {('terry zwigoff',): ['biography', 'documentary']}, 'spotlight 2015': {('thomas mccarthy',): ['biography', 'drama', 'history', 'thriller']}, 'the band wagon 1953': {('vincente minnelli',): ['comedy', 'romance', 'musical']}, 'one more time with feeling 2016': {('andrew dominik',): ['music', 'documentary']}, 'ride the high country 1962': {('sam peckinpah',): ['drama', 'western']}, 'the diving bell and the butterfly 2007': {('julian schnabel',): ['biography', 'drama']}, 'invasion of the body snatchers 1956': {('don siegel',): ['sci-fi', 'drama', 'horror']}, 'mr. bachmann and his class 2022': {('maria speth',): ['documentary']}, 'the class 2008': {('laurent cantet',): ['drama']}, 'platoon 1986': {('oliver stone',): ['drama', 'war']}, '35 shots of rum 2009': {('claire denis',): ['drama']}, 'apocalypse now: final cut 2019': {('francis ford coppola',): ['drama', 'mystery', 'war']}, 'chinatown 1974': {('roman polanski',): ['drama', 'mystery', 'thriller', 'crime']}, 'the florida project 2017': {('sean baker',): ['drama']}, 'timbuktu 2015': {('abderrahmane sissako',): ['drama']}, 'frenzy 1972': {('alfred hitchcock',): ['thriller']}, 'brief encounter 1946': {('david lean',): ['drama', 'romance']}, 'no country for old men 2007': {('ethan coen', 'joel coen'): ['drama', 'thriller', 'crime', 'western']}, 'cool hand luke 1967': {('stuart rosenberg',): ['drama', 'crime']}, 'little women 1933': {('george cukor',): ['drama', 'romance', 'family']}, 'maborosi 1997': {('hirokazu koreeda',): ['drama']}, 'top hat 1935': {('mark sandrich',): ['comedy', 'romance', 'musical']}, 'apocalypse now redux 2001': {('francis ford coppola',): ['action', 'drama', 'war']}, 'nomadland 2020': {('chloé zhao',): ['drama']}, 'never rarely sometimes always 2020': {('eliza hittman',): ['drama']}, 'annie hall 1977': {('woody allen',): ['drama', 'comedy', 'romance']}, 'the lord of the rings: the fellowship of the ring 2001': {('peter jackson',): ['action', 'adventure', 'fantasy']}, 'quiz show 1994': {('robert redford',): ['drama', 'history']}, 'leviathan 2014': {('andrei zvyagintsev',): ['drama']}, 'werckmeister harmonies 2001': {('ágnes hranitzky', 'béla tarr'): ['sci-fi', 'drama', 'mystery', 'thriller', 'horror', 'crime']}, 'toy story 3 2010': {('lee unkrich',): ['adventure', 'fantasy', 'comedy', 'animation', 'family']}, 'the souvenir 2019': {('joanna hogg',): ['drama', 'mystery', 'romance']}, 'this is spinal tap 1984': {('rob reiner',): ['comedy', 'music']}, 'the look of silence 2015': {('joshua oppenheimer',): ['documentary']}, 'tower 2016': {('keith maitland',): ['history', 'crime', 'animation', 'documentary']}, 'drive my car 2021': {('ryûsuke hamaguchi',): ['drama']}, 'moolaadé 2004': {('ousmane sembene',): ['drama']}, 'atanarjuat: the fast runner 2002': {('zacharias kunuk',): ['drama', 'fantasy']}, 'ikiru 1956': {('akira kurosawa',): ['drama']}, 'time 2020': {('garrett bradley',): ['documentary']}, 'gavagai 2018': {('rob tregenza',): ['drama']}, 'the man who would be king 1975': {('john huston',): ['adventure']}, 'the killing 1956': {('stanley kubrick',): ['drama', 'thriller', 'crime', 'film-noir']}, 'swing time 1936': {('george stevens',): ['comedy', 'romance', 'musical']}, 'breaking away 1979': {('peter yates',): ['drama', 'sport', 'comedy', 'romance']}, 'after life 1999': {('hirokazu koreeda',): ['drama', 'fantasy']}, 'son of saul 2015': {('lászló nemes',): ['drama', 'history', 'thriller', 'horror', 'war']}, 'love affair 1939': {('leo mccarey',): ['drama', 'comedy', 'romance']}, 'frankenstein 1931': {('james whale',): ['sci-fi', 'drama', 'horror']}, '8½ 1963': {('federico fellini',): ['drama']}, 'little women 2019': {('greta gerwig',): ['drama', 'romance']}, 'e.t. the extra-terrestrial 1982': {('steven spielberg',): ['adventure', 'sci-fi', 'drama', 'fantasy', 'family']}, 'the african queen 1952': {('john huston',): ['adventure', 'drama', 'romance', 'war']}, 'the triplets of belleville 2003': {('sylvain chomet',): ['adventure', 'comedy', 'music', 'animation']}, 'the queen 2006': {('stephen frears',): ['biography', 'drama']}, 'flee 2021': {('jonas poher rasmussen',): ['biography', 'drama', 'animation', 'documentary']}, 'all quiet on the western front 1930': {('lewis milestone',): ['drama', 'war']}, 'ex libris: the new york public library 2017': {('frederick wiseman',): ['documentary']}, 'a bread factory part two: walk with me a while 2018': {('patrick wang',): ['drama', 'comedy']}, 'the ladykillers 1956': {('alexander mackendrick',): ['comedy', 'crime']}, 'young mr. lincoln 1939': {('john ford',): ['biography', 'drama']}, 'stories we tell 2013': {('sarah polley',): ['documentary']}, 'a bread factory part one: for the sake of gold 2018': {('patrick wang',): ['drama', 'comedy']}, 'the act of killing 2013': {('anonymous', 'christine cynn', 'joshua oppenheimer'): ['history', 'crime', 'documentary']}, 'on the waterfront 1954': {('elia kazan',): ['drama', 'romance', 'crime']}, \"jafar panahi's taxi 2015\": {('jafar panahi',): ['drama', 'comedy']}, 'ida 2014': {('pawel pawlikowski',): ['drama']}, 'beau travail 2000': {('claire denis',): ['drama']}, 'her 2013': {('spike jonze',): ['sci-fi', 'drama', 'comedy', 'romance']}, 'uncut gems 2019': {('ben safdie', 'joshua safdie'): ['drama', 'mystery', 'thriller', 'comedy', 'crime']}, 'waltz with bashir 2008': {('ari folman',): ['biography', 'drama', 'war', 'animation']}, \"this is not a burial, it's a resurrection 2021\": {('lemohang jeremiah mosese',): ['drama']}, 'they shall not grow old 2018': {('peter jackson',): ['history', 'war', 'documentary']}, 'secrets & lies 1996': {('mike leigh',): ['drama', 'comedy']}, 'memoria 2021': {('apichatpong weerasethakul',): ['sci-fi', 'drama']}, 'an autumn afternoon 1964': {('yasujiro ozu',): ['drama']}, 'patton 1970': {('franklin j. schaffner',): ['biography', 'drama', 'war']}, 'the favourite 2018': {('giorgos lanthimos',): ['biography', 'drama', 'history', 'comedy']}, 'the sweet hereafter 1997': {('atom egoyan',): ['drama']}, 'tár 2022': {('todd field',): ['drama', 'music']}, 'the right stuff 1983': {('philip kaufman',): ['adventure', 'biography', 'drama', 'history']}, 'bambi 1942': {('bill roberts', 'david hand', 'graham heid', 'james algar', 'norman wright', 'paul satterfield', 'samuel armstrong'): ['drama', 'animation', 'family']}, 'bringing up baby 1938': {('howard hawks',): ['comedy', 'romance', 'family']}, 'the gatekeepers 2013': {('dror moreh',): ['documentary']}, 'nostalgia for the light 2011': {('patricio guzmán',): ['drama', 'documentary']}, 'the rider 2018': {('chloé zhao',): ['adventure', 'drama', 'comedy', 'romance', 'western', 'music']}, 'david copperfield 1935': {('george cukor',): ['adventure', 'drama', 'romance']}, 'saving private ryan 1998': {('steven spielberg',): ['action', 'drama', 'war']}, 'burning 2018': {('chang-dong lee',): ['drama', 'mystery']}, 'all the beauty and the bloodshed 2022': {('laura poitras',): ['documentary']}, 'the worst person in the world 2022': {('joachim trier',): ['drama', 'comedy']}, 'ben-hur 1959': {('william wyler',): ['adventure', 'drama', 'history', 'war']}, 'after hours 1985': {('martin scorsese',): ['thriller', 'comedy']}, 'the crying game 1992': {('neil jordan',): ['thriller', 'romance', 'crime']}, 'great expectations 1947': {('david lean',): ['adventure', 'drama', 'mystery', 'romance']}, \"winter's bone 2010\": {('debra granik',): ['drama', 'thriller']}, 'gett: the trial of viviane amsalem 2015': {('ronit elkabetz', 'shlomi elkabetz'): ['drama']}, 'i called him morgan 2017': {('kasper collin',): ['drama', 'history', 'music', 'documentary']}, 'close encounters of the third kind 1977': {('steven spielberg',): ['adventure', 'sci-fi', 'drama']}, 'the godfather: part ii 1974': {('francis ford coppola',): ['drama', 'thriller', 'crime']}, 'red beard 1968': {('akira kurosawa',): ['drama']}, 'the hustler 1961': {('robert rossen',): ['drama', 'sport']}, 'hit the road 2022': {('panah panahi',): ['drama']}, 'l.a. confidential 1997': {('curtis hanson',): ['drama', 'mystery', 'thriller', 'crime']}, 'procession 2021': {('robert greene',): ['documentary']}, 'bloody sunday 2002': {('paul greengrass',): ['drama', 'history', 'war']}, 'my voyage to italy 2001': {('martin scorsese',): ['documentary']}, 'phantom thread 2017': {('paul thomas anderson',): ['drama', 'romance', 'crime']}, 'goodfellas 1990': {('martin scorsese',): ['biography', 'drama', 'crime']}, 'wojnarowicz 2021': {('chris mckim',): ['documentary']}, 'paths of the soul 2016': {('yang zhang',): ['drama']}, \"it's such a beautiful day 2012\": {('don hertzfeldt',): ['sci-fi', 'drama', 'fantasy', 'comedy', 'animation']}, 'my perestroika 2011': {('robin hessman',): ['biography', 'history', 'family', 'documentary', 'news']}, 'this is not a film 2012': {('jafar panahi', 'mojtaba mirtahmasb'): ['documentary']}, 'the birds 1963': {('alfred hitchcock',): ['drama', 'mystery', 'horror', 'romance']}, 'to have and have not 1945': {('howard hawks',): ['adventure', 'thriller', 'comedy', 'romance', 'war', 'film-noir']}, 'finding nemo 2003': {('andrew stanton', 'lee unkrich'): ['adventure', 'comedy', 'animation', 'family']}, 'topsy-turvy 1999': {('mike leigh',): ['biography', 'drama', 'comedy', 'music']}, 'samurai rebellion 1967': {('masaki kobayashi',): ['drama']}, 'king kong 1933': {('ernest b. schoedsack', 'merian c. cooper'): ['adventure', 'sci-fi', 'horror']}, 'small axe: mangrove 2020': {('steve mcqueen',): ['drama']}, 'the incredibles 2004': {('brad bird',): ['action', 'adventure', 'animation', 'family']}, 'before sunset 2004': {('richard linklater',): ['drama', 'romance']}, 'being john malkovich 1999': {('spike jonze',): ['drama', 'fantasy', 'comedy', 'romance']}, 'a prophet 2010': {('jacques audiard',): ['drama', 'crime']}, 'hard to be a god 2015': {('aleksei german',): ['sci-fi', 'drama']}, 'almost famous 2000': {('cameron crowe',): ['drama', 'music']}, 'high and low 1963': {('akira kurosawa',): ['drama', 'mystery', 'thriller', 'crime']}, 'paths of glory 1957': {('stanley kubrick',): ['drama', 'war']}, 'cold war 2018': {('pawel pawlikowski',): ['drama', 'romance', 'music']}, 'big men 2014': {('rachel boynton',): ['documentary']}, 'american splendor 2003': {('robert pulcini', 'shari springer berman'): ['biography', 'drama', 'comedy']}, 'hannah and her sisters 1986': {('woody allen',): ['drama', 'comedy', 'romance']}, 'the circus 1929': {('charles chaplin',): ['comedy', 'romance']}, 'lost in translation 2003': {('sofia coppola',): ['drama', 'romance']}, 'the tale 2018': {('jennifer fox',): ['drama', 'mystery', 'thriller']}, 'licorice pizza 2021': {('paul thomas anderson',): ['drama', 'comedy']}, 'paterson 2016': {('jim jarmusch',): ['drama', 'comedy', 'romance']}, 'gosford park 2001': {('robert altman',): ['drama', 'mystery', 'comedy']}, 'the fits 2016': {('anna rose holmer',): ['drama']}, 'the souvenir: part ii 2021': {('joanna hogg',): ['drama', 'romance']}, 'mad max: fury road 2015': {('george miller',): ['action', 'adventure', 'sci-fi', 'thriller']}, 'united 93 2006': {('paul greengrass',): ['drama', 'history', 'crime']}, 'capturing the friedmans 2003': {('andrew jarecki',): ['biography', 'mystery', 'crime', 'documentary']}, 'the truman show 1998': {('peter weir',): ['drama']}, 'american hustle 2013': {('david o. russell',): ['drama', 'history', 'thriller', 'crime']}, 'blue is the warmest color 2013': {('abdel kechiche',): ['drama', 'romance']}, 'star wars: episode iv - a new hope 1977': {('george lucas',): ['action', 'adventure', 'sci-fi', 'fantasy']}, 'persepolis 2007': {('marjane satrapi', 'vincent paronnaud'): ['biography', 'drama', 'war', 'animation']}, 'the age of innocence 1993': {('martin scorsese',): ['drama', 'romance']}, 'once 2007': {('john carney',): ['drama', 'romance', 'music']}, 'first cow 2020': {('kelly reichardt',): ['drama']}, 'the best of youth 2005': {('marco tullio giordana',): ['drama', 'romance']}, 'the overnighters 2014': {('jesse moss',): ['drama', 'documentary']}, 'the lives of others 2006': {('florian henckel von donnersmarck',): ['drama', 'thriller']}, 'two-lane blacktop 1971': {('monte hellman',): ['drama']}, 'house of flying daggers 2004': {('yimou zhang',): ['action', 'adventure', 'drama', 'fantasy', 'romance']}, '63 up 2019': {('michael apted',): ['documentary']}, 'minding the gap 2018': {('bing liu',): ['documentary']}, 'treasure island 1950': {('byron haskin',): ['adventure', 'family']}, 'searching for bobby fischer 1993': {('steven zaillian',): ['biography', 'drama']}, 'hamilton 2020': {('thomas kail',): ['biography', 'drama', 'history', 'musical']}, 'national gallery 2014': {('frederick wiseman',): ['history', 'documentary']}, 'assault on precinct 13 1976': {('john carpenter',): ['action', 'thriller', 'crime']}, 'man on wire 2008': {('james marsh',): ['crime', 'documentary']}, 'three minutes: a lengthening 2022': {('bianca stigter',): ['documentary']}, 'for sama 2019': {('edward watts', 'waad al-khateab'): ['documentary']}, 'force of evil 1949': {('abraham polonsky',): ['drama', 'crime', 'film-noir']}, 'the hidden fortress 1960': {('akira kurosawa',): ['adventure', 'drama']}, 'still walking 2009': {('hirokazu koreeda',): ['drama']}, 'gangs of wasseypur 2015': {('anurag kashyap',): ['action', 'drama', 'thriller', 'crime']}, 'the last detail 1973': {('hal ashby',): ['drama', 'comedy']}, 'when the levees broke: a requiem in four acts 2006': {('spike lee',): ['documentary']}, 'borat: cultural learnings of america for make benefit glorious nation of kazakhstan 2006': {('larry charles',): ['comedy']}, 'minari 2020': {('lee isaac chung',): ['drama']}, 'whiplash 2014': {('damien chazelle',): ['drama', 'music']}, 'barry lyndon 1975': {('stanley kubrick',): ['adventure', 'drama', 'history', 'war']}, 'the farewell 2019': {('lulu wang',): ['drama', 'comedy']}, 'elle 2016': {('paul verhoeven',): ['drama', 'thriller', 'comedy']}, 'the tale of the princess kaguya 2014': {('isao takahata',): ['drama', 'fantasy', 'animation']}, 'uncertain 2017': {('anna sandilands', 'ewan mcnicol'): ['drama', 'comedy', 'documentary']}, 'captain blood 1935': {('michael curtiz',): ['action', 'adventure']}, 'two days, one night 2014': {('jean-pierre dardenne', 'luc dardenne'): ['drama']}, 'great freedom 2022': {('sebastian meise',): ['drama']}, 'eighth grade 2018': {('bo burnham',): ['drama', 'comedy']}, 'a star is born 1954': {('george cukor',): ['drama', 'romance', 'musical']}, 'no end in sight 2007': {('charles ferguson',): ['war', 'documentary']}, \"it's a wonderful life 1947\": {('frank capra',): ['drama', 'fantasy', 'family']}, 'the madness of king george 1994': {('nicholas hytner',): ['biography', 'drama', 'history', 'comedy']}, 'phoenix 2015': {('christian petzold',): ['drama', 'history']}, 'goodbye solo 2009': {('ramin bahrani',): ['drama']}, 'gunda 2020': {('victor kossakovsky',): ['documentary']}, 'western 2015': {('bill ross iv', 'turner ross'): ['western', 'documentary']}, 'the power of the dog 2021': {('jane campion',): ['drama']}, 'stop making sense 1984': {('jonathan demme',): ['music', 'documentary']}, 'deep red 1976': {('dario argento',): ['mystery', 'thriller', 'horror']}, 'downhill racer 1969': {('michael ritchie',): ['drama', 'sport']}, 'alien 1979': {('ridley scott',): ['sci-fi', 'thriller', 'horror']}, 'columbus 2017': {('kogonada',): ['drama', 'comedy', 'romance']}, 'night of the living dead 1968': {('george a. romero',): ['horror']}, 'the artist 2011': {('michel hazanavicius',): ['romance']}, 'yankee doodle dandy 1942': {('michael curtiz',): ['biography', 'drama', 'musical']}, 'raging bull 1980': {('martin scorsese',): ['biography', 'drama', 'sport']}, 'eternal sunshine of the spotless mind 2004': {('michel gondry',): ['drama', 'romance']}, 'the piano 1993': {('jane campion',): ['drama', 'romance']}, 'of mice and men 1940': {('lewis milestone',): ['drama']}, 'dead souls 2018': {('bing wang',): ['documentary']}, 'zama 2018': {('lucrecia martel',): ['drama']}, 'dick johnson is dead 2020': {('kirsten johnson',): ['drama', 'documentary']}, 'high noon 1952': {('fred zinnemann',): ['action', 'drama', 'thriller', 'western']}, 'rebel without a cause 1955': {('nicholas ray',): ['drama']}, 'letters from iwo jima 2006': {('clint eastwood',): ['drama', 'history', 'war']}, 'the seventh continent (1989)': {('michael haneke',): ['drama']}, 'a woman under the influence 1974': {('john cassavetes',): ['drama', 'romance']}, 'ghost world 2001': {('terry zwigoff',): ['drama', 'comedy']}, 'foreign correspondent 1940': {('alfred hitchcock',): ['mystery', 'thriller', 'romance', 'war']}, 'show boat 1936': {('james whale',): ['drama', 'comedy', 'romance', 'musical']}, 'the arbor 2011': {('clio barnard',): ['biography', 'documentary']}, \"long day's journey into night 2019\": {('gan bi',): ['drama', 'mystery']}, 'richard iii 1956': {('laurence olivier',): ['biography', 'drama', 'history', 'war']}, 'democrats 2015': {('camilla nielsson',): ['documentary']}, 'the lion king 1994': {('rob minkoff', 'roger allers'): ['adventure', 'drama', 'animation', 'family', 'musical']}, '4 little girls 1997': {('spike lee',): ['history', 'documentary']}, 'wild strawberries 1959': {('ingmar bergman',): ['drama', 'romance']}, 'crime + punishment 2018': {('stephen t. maing',): ['documentary']}, 'the seventh seal 1958': {('ingmar bergman',): ['drama', 'fantasy']}, 'how green was my valley 1941': {('john ford',): ['drama', 'family']}, 'azor 2021': {('andreas fontana',): ['drama']}, 'y tu mamá también 2002': {('alfonso cuarón',): ['drama', 'comedy']}, 'paddington 2 2018': {('paul king',): ['adventure', 'fantasy', 'comedy', 'animation', 'family']}, 'the little mermaid 1989': {('john musker', 'ron clements'): ['fantasy', 'romance', 'animation', 'family', 'musical']}, 'city hall 2020': {('frederick wiseman',): ['documentary']}, 'capote 2005': {('bennett miller',): ['biography', 'drama', 'crime']}, 'the death of stalin 2018': {('armando iannucci',): ['biography', 'drama', 'history', 'comedy']}, 'miracle on 34th street 1947': {('george seaton',): ['drama', 'comedy', 'family']}, 'strangers on a train 1951': {('alfred hitchcock',): ['thriller', 'crime', 'film-noir']}, 'tulpan 2009': {('sergei dvortsevoy',): ['drama', 'comedy']}, \"manuscripts don't burn 2014\": {('mohammad rasoulof',): ['drama']}, 'in transit 2017': {('albert maysles', 'benjamin wu', 'david usui', 'lynn true', 'nelson walker iii'): ['documentary', 'news']}, 'three billboards outside ebbing, missouri 2017': {('martin mcdonagh',): ['drama', 'comedy', 'crime']}, 'quest 2017': {('jonathan olshefski',): ['music', 'family', 'documentary']}, 'au revoir les enfants 1988': {('louis malle',): ['drama', 'war']}, 'a film unfinished 2010': {('yael hersonski',): ['drama', 'history', 'documentary']}, 'things to come 2016': {('mia hansen-løve',): ['drama']}, 'the grand budapest hotel 2014': {('wes anderson',): ['drama', 'comedy']}, 'winter sleep 2014': {('nuri bilge ceylan',): ['drama']}, 'a star is born 2018': {('bradley cooper',): ['drama', 'romance', 'music', 'musical']}, 'citizenfour 2014': {('laura poitras',): ['documentary']}, 'time out 2002': {('laurent cantet',): ['drama']}, 'the blue angel (re-release) 2001': {('josef von sternberg',): ['drama', 'musical']}, 'thelma & louise 1991': {('ridley scott',): ['drama', 'thriller', 'crime']}, 'away from her 2007': {('sarah polley',): ['drama', 'romance']}, 'the fallen idol (re-release) 2006': {('carol reed',): ['drama', 'mystery', 'thriller']}, 'the father 2021': {('florian zeller',): ['drama']}, 'fat city 1972': {('john huston',): ['drama', 'sport']}, 'foxtrot 2017': {('samuel maoz',): ['drama']}, 'howards end 1992': {('james ivory',): ['drama', 'romance']}, 'the innocents 1961': {('jack clayton',): ['horror']}, 'inside job 2010': {('charles ferguson',): ['documentary']}, 'sweet country 2018': {('warwick thornton',): ['adventure', 'drama', 'history', 'thriller', 'crime', 'western']}, 'leave no trace 2018': {('debra granik',): ['drama']}, 'three colors: white 1994': {('krzysztof kieslowski',): ['drama', 'comedy', 'romance']}, 'chicken run 2000': {('nick park', 'peter lord'): ['comedy', 'animation', 'family']}, \"the king's speech 2010\": {('tom hooper',): ['drama', 'history']}, 'parallel mothers 2021': {('pedro almodóvar',): ['drama']}, 'hell or high water 2016': {('david mackenzie',): ['drama', 'crime']}, 'up 2009': {('bob peterson', 'pete docter'): ['adventure', 'drama', 'comedy', 'animation', 'family']}, 'shirkers 2018': {('sandi tan',): ['documentary']}, 'mildred pierce 1945': {('michael curtiz',): ['drama', 'mystery', 'romance', 'crime', 'film-noir']}, '45365 2010': {('bill ross iv', 'turner ross'): ['documentary']}, 'tootsie 1982': {('sydney pollack',): ['drama', 'comedy', 'romance']}, 'marooned in iraq 2003': {('bahman ghobadi',): ['drama']}, 'to kill a mockingbird 1962': {('robert mulligan',): ['drama', 'crime']}, 'descendant 2022': {('margaret brown',): ['history', 'documentary']}, 'aquarius 2016': {('kleber mendonça filho',): ['drama']}, 'so long, my son': {('xiaoshuai wang',): ['drama']}, 'apollo 11 2019': {('todd douglas miller',): ['history', 'documentary']}, 'anomalisa 2015': {('charlie kaufman', 'duke johnson'): ['drama', 'fantasy', 'comedy', 'romance', 'animation']}, 'toy story 2 1999': {('ash brannon', 'john lasseter', 'lee unkrich'): ['adventure', 'fantasy', 'comedy', 'animation', 'family']}, 'black panther 2018': {('ryan coogler',): ['action', 'adventure', 'sci-fi', 'drama']}, 'the human voice 2021': {('pedro almodóvar',): ['drama', 'short']}, 'brooklyn 2015': {('john crowley',): ['drama', 'comedy', 'romance']}, 'nobody knows 2005': {('hirokazu koreeda',): ['drama']}, 'life is sweet 1991': {('mike leigh',): ['drama', 'comedy']}, 'faces 1968': {('john cassavetes',): ['drama']}, 'mary poppins 1964': {('robert stevenson',): ['fantasy', 'comedy', 'family', 'musical']}, 'the lord of the rings: the two towers 2002': {('peter jackson',): ['action', 'adventure', 'fantasy']}, \"l'enfant (the child) 2006\": {('jean-pierre dardenne', 'luc dardenne'): ['drama', 'romance', 'crime']}, 'jane fonda in five acts 2018': {('susan lacy',): ['documentary']}, 'the conversation 1974': {('francis ford coppola',): ['drama', 'mystery', 'thriller']}, 'good morning 1962': {('yasujiro ozu',): ['drama', 'comedy', 'family']}, 'newtown 2016': {('kim a. snyder',): ['documentary']}, 'poetry 2011': {('chang-dong lee',): ['drama']}, 'restless creature: wendy whelan 2017': {('adam schlesinger', 'linda saffire'): ['documentary']}, 'birdman or (the unexpected virtue of ignorance) 2014': {('alejandro gonzález iñárritu',): ['drama', 'comedy']}, 'little women 1994': {('gillian armstrong',): ['drama', 'romance', 'family']}, 'aftershock 2022': {('paula eiselt', 'tonya lewis lee'): ['documentary']}, 'shakespeare in love 1998': {('john madden',): ['drama', 'comedy', 'romance']}, 'the awful truth 1937': {('leo mccarey',): ['comedy', 'romance']}, 'can you ever forgive me? 2018': {('marielle heller',): ['biography', 'drama', 'comedy', 'crime']}, 'wolfwalkers 2020': {('ross stewart', 'tomm moore'): ['adventure', 'fantasy', 'animation', 'family']}, 'it happened one night 1934': {('frank capra',): ['comedy', 'romance']}, 'the body remembers when the world broke open 2019': {('elle-máijá tailfeathers', 'kathleen hepburn'): ['drama']}, 'the missing picture 2013': {('rithy panh',): ['documentary']}, 'i travel because i have to, i come back because i love you 2011': {('karim ainouz', 'marcelo gomes'): ['drama']}, 'the invisible man 1933': {('james whale',): ['sci-fi', 'horror']}, 'scarface 1932': {('howard hawks', 'richard rosson'): ['action', 'drama', 'thriller', 'crime', 'film-noir']}, 'of men and war 2015': {('laurent bécue-renard',): ['history', 'war', 'documentary']}, 'the long goodbye 1973': {('robert altman',): ['drama', 'mystery', 'thriller', 'comedy', 'crime']}, 'she wore a yellow ribbon 1949': {('john ford',): ['western']}, 'imitation of life 1959': {('douglas sirk',): ['drama']}, 'pain and glory 2019': {('pedro almodóvar',): ['drama']}, 'genèse (genesis) 2019': {('philippe lesage',): ['drama']}, 'the farthest 2017': {('emer reynolds',): ['history', 'documentary']}, 'gomorrah 2009': {('matteo garrone',): ['drama', 'crime']}, 'days 2021': {('ming-liang tsai',): ['drama']}, 'who we are: a chronicle of racism in america 2022': {('emily kunstler', 'sarah kunstler'): ['documentary']}, 'to be and to have 2003': {('nicolas philibert',): ['family', 'documentary']}, 'a night of knowing nothing 2022': {('payal kapadia',): ['documentary']}, 'halloween 1978': {('john carpenter',): ['thriller', 'horror']}, 'eraserhead 1978': {('david lynch',): ['horror']}, 'the velvet underground 2021': {('todd haynes',): ['music', 'documentary']}, 'medium cool 1969': {('haskell wexler',): ['drama']}, 'attica 2021': {('stanley nelson',): ['documentary']}, 'can you bring it: bill t. jones and d-man in the waters 2021': {('rosalynde leblanc', 'tom hurwitz'): ['documentary']}, 'alcarràs': {('carla simón',): ['drama']}, 'fire at sea 2016': {('gianfranco rosi',): ['documentary']}, 'the fugitive 1993': {('andrew davis',): ['action', 'drama', 'mystery', 'thriller', 'crime']}, 'f for fake 1975': {('françois reichenbach', 'gary graver', 'oja kodar', 'orson welles'): ['documentary']}, 'about elly (2009) 2015': {('asghar farhadi',): ['drama', 'mystery']}, 'the bridge on the river kwai 1957': {('david lean',): ['adventure', 'drama', 'war']}, 'goldfinger 1965': {('guy hamilton',): ['action', 'adventure', 'thriller']}, \"ma rainey's black bottom 2020\": {('george c. wolfe',): ['drama', 'music']}, 'one false move 1992': {('carl franklin',): ['drama', 'crime']}, 'en el séptimo día (on the seventh day) 2018': {('jim mckay',): ['drama']}, 'jane 2017': {('brett morgen',): ['biography', 'documentary']}, 'jaws 1975': {('steven spielberg',): ['adventure', 'thriller', 'horror']}, 'we are the best! 2014': {('lukas moodysson',): ['drama']}, 'spartacus 1960': {('stanley kubrick',): ['adventure', 'biography', 'drama', 'history', 'war']}, 'small axe: education 2020': {('steve mcqueen',): ['drama']}, 'about endlessness 2021': {('roy andersson',): ['drama', 'fantasy']}, 'back to the future 1985': {('robert zemeckis',): ['adventure', 'sci-fi', 'comedy']}, 'hope 2021': {('maria sødahl',): ['drama', 'romance']}, 'if beale street could talk 2018': {('barry jenkins',): ['drama', 'romance', 'crime']}, 'my journey through french cinema 2017': {('bertrand tavernier',): ['documentary']}, 'wallace & gromit: the curse of the were-rabbit 2005': {('nick park', 'steve box'): ['adventure', 'comedy', 'animation', 'family']}, 'the diary of a teenage girl 2015': {('marielle heller',): ['drama', 'romance']}, 'elena 2012': {('andrei zvyagintsev',): ['drama']}, 'all is lost 2013': {('j.c. chandor',): ['action', 'adventure', 'drama']}, 'hereditary 2018': {('ari aster',): ['drama', 'mystery', 'thriller', 'horror']}, 'return to seoul 2022': {('davy chou',): ['drama']}, 'listen to me marlon 2015': {('stevan riley',): ['biography', 'documentary']}, \"gideon's army 2013\": {('dawn porter',): ['documentary']}, 'odd man out 1947': {('carol reed',): ['drama', 'thriller', 'crime']}, 'maria full of grace 2004': {('joshua marston',): ['drama', 'thriller', 'crime']}, 'fateless 2006': {('lajos koltai',): ['drama']}, 'happy as lazzaro 2018': {('alice rohrwacher',): ['drama']}, 'the fog of war: eleven lessons from the life of robert s. mcnamara 2003': {('errol morris',): ['war', 'documentary']}, 'uncle boonmee who can recall his past lives 2011': {('apichatpong weerasethakul',): ['fantasy', 'comedy']}, 'brokeback mountain 2005': {('ang lee',): ['drama', 'romance', 'western']}}\n"
     ]
    }
   ],
   "source": [
    "print(movie)"
   ]
  },
  {
   "cell_type": "markdown",
   "id": "5d16e50f",
   "metadata": {},
   "source": [
    "Program Main "
   ]
  },
  {
   "cell_type": "code",
   "execution_count": 12,
   "id": "a67d00a2",
   "metadata": {},
   "outputs": [],
   "source": [
    "def get_movie():\n",
    "    inp = input('What is your favorite movie name and the year ?').lower().strip()\n",
    "    while True:\n",
    "        try:\n",
    "           val = int(inp)\n",
    "           print('Invalid Input, please type a movie name and the year only: ')\n",
    "        except:\n",
    "            print('You are not stupid')\n",
    "            return inp\n",
    "            break"
   ]
  },
  {
   "cell_type": "code",
   "execution_count": 13,
   "id": "d8b25694",
   "metadata": {},
   "outputs": [],
   "source": [
    "def get_director():\n",
    "    inp = input('What is the director name ?').lower().strip()\n",
    "    while True:\n",
    "        try:\n",
    "           val = int(inp)\n",
    "           print('Invalid Input, please type a director name only: ')\n",
    "        except:\n",
    "            print('You are not stupid')\n",
    "            return inp\n",
    "            break"
   ]
  },
  {
   "cell_type": "code",
   "execution_count": 15,
   "id": "a2c43957",
   "metadata": {},
   "outputs": [
    {
     "ename": "KeyError",
     "evalue": "'the godfather 1972'",
     "output_type": "error",
     "traceback": [
      "\u001b[0;31m---------------------------------------------------------------------------\u001b[0m",
      "\u001b[0;31mKeyError\u001b[0m                                  Traceback (most recent call last)",
      "\u001b[1;32m/Users/alexkingdom/Projects/Python/Group Project/Group Project .ipynb Cell 19\u001b[0m in \u001b[0;36m<cell line: 1>\u001b[0;34m()\u001b[0m\n\u001b[1;32m      <a href='vscode-notebook-cell:/Users/alexkingdom/Projects/Python/Group%20Project/Group%20Project%20.ipynb#X24sZmlsZQ%3D%3D?line=0'>1</a>\u001b[0m \u001b[39mfor\u001b[39;00m key \u001b[39min\u001b[39;00m movie:\n\u001b[0;32m----> <a href='vscode-notebook-cell:/Users/alexkingdom/Projects/Python/Group%20Project/Group%20Project%20.ipynb#X24sZmlsZQ%3D%3D?line=1'>2</a>\u001b[0m     movie[key\u001b[39m.\u001b[39;49mlower()]\n",
      "\u001b[0;31mKeyError\u001b[0m: 'the godfather 1972'"
     ]
    }
   ],
   "source": [
    "for key in movie:\n",
    "    movie[key.lower()]"
   ]
  },
  {
   "cell_type": "code",
   "execution_count": 21,
   "id": "e00e4162",
   "metadata": {},
   "outputs": [
    {
     "name": "stdout",
     "output_type": "stream",
     "text": [
      "the kid with a bike 2012\n"
     ]
    }
   ],
   "source": [
    "print(movie_name)"
   ]
  },
  {
   "cell_type": "code",
   "execution_count": 31,
   "id": "e09f83e8",
   "metadata": {},
   "outputs": [
    {
     "name": "stdout",
     "output_type": "stream",
     "text": [
      "Cemetery of Splendor 2016\n"
     ]
    }
   ],
   "source": [
    "director_movie = []\n",
    "directors = []\n",
    "genres = []\n",
    "genres_movie = []\n",
    "for key1,value1 in movie.items():\n",
    "   key1.lower()\n",
    "   for key2,value2 in value1.items():\n",
    "        directors = list(key2)\n",
    "        for i in director:\n",
    "            i.lower()\n",
    "        genres = list(value2)\n",
    "        for j in genres:\n",
    "            j.lower()\n",
    "print(key1)\n"
   ]
  },
  {
   "cell_type": "code",
   "execution_count": 30,
   "id": "70281070",
   "metadata": {},
   "outputs": [
    {
     "name": "stdout",
     "output_type": "stream",
     "text": [
      "['Francis Ford Coppola']\n"
     ]
    }
   ],
   "source": [
    "print(director)\n",
    "    "
   ]
  },
  {
   "cell_type": "code",
   "execution_count": 1,
   "id": "5715684e",
   "metadata": {},
   "outputs": [
    {
     "ename": "NameError",
     "evalue": "name 'movie' is not defined",
     "output_type": "error",
     "traceback": [
      "\u001b[0;31m---------------------------------------------------------------------------\u001b[0m",
      "\u001b[0;31mNameError\u001b[0m                                 Traceback (most recent call last)",
      "\u001b[1;32m/Users/alexkingdom/Projects/Python/Group Project/Group Project .ipynb Cell 23\u001b[0m in \u001b[0;36m<cell line: 1>\u001b[0;34m()\u001b[0m\n\u001b[0;32m----> <a href='vscode-notebook-cell:/Users/alexkingdom/Projects/Python/Group%20Project/Group%20Project%20.ipynb#X31sZmlsZQ%3D%3D?line=0'>1</a>\u001b[0m \u001b[39mprint\u001b[39m(movie)\n",
      "\u001b[0;31mNameError\u001b[0m: name 'movie' is not defined"
     ]
    }
   ],
   "source": [
    "print(movie)"
   ]
  },
  {
   "cell_type": "code",
   "execution_count": null,
   "id": "7c1d532a",
   "metadata": {},
   "outputs": [],
   "source": []
  }
 ],
 "metadata": {
  "kernelspec": {
   "display_name": "Python 3 (ipykernel)",
   "language": "python",
   "name": "python3"
  },
  "language_info": {
   "codemirror_mode": {
    "name": "ipython",
    "version": 3
   },
   "file_extension": ".py",
   "mimetype": "text/x-python",
   "name": "python",
   "nbconvert_exporter": "python",
   "pygments_lexer": "ipython3",
   "version": "3.9.12"
  },
  "vscode": {
   "interpreter": {
    "hash": "3c3dbef192cb335f83a5dd9e9161a69cadeaf5d6631cb9cd12bddb603fc54a22"
   }
  }
 },
 "nbformat": 4,
 "nbformat_minor": 5
}
